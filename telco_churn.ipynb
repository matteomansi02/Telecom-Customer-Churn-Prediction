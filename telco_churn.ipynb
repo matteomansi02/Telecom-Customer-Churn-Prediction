{
 "cells": [
  {
   "cell_type": "code",
   "execution_count": 247,
   "metadata": {},
   "outputs": [],
   "source": [
    "import pandas as pd \n",
    "import numpy as np \n",
    "import matplotlib.pyplot as plt \n",
    "import seaborn as sns \n",
    "from sklearn.preprocessing import LabelEncoder, StandardScaler\n",
    "    \n",
    "from sklearn.model_selection import train_test_split, cross_val_score, KFold, StratifiedKFold, GridSearchCV\n",
    "from sklearn.linear_model import LogisticRegression\n",
    "from sklearn.neighbors import KNeighborsClassifier\n",
    "from sklearn.naive_bayes import GaussianNB\n",
    "from sklearn.ensemble import RandomForestClassifier, GradientBoostingClassifier\n",
    "from sklearn.svm import SVC\n",
    "\n",
    "from sklearn.metrics import roc_curve\n",
    "from sklearn.metrics import recall_score, confusion_matrix, precision_score, f1_score, accuracy_score, classification_report"
   ]
  },
  {
   "cell_type": "code",
   "execution_count": 221,
   "metadata": {},
   "outputs": [],
   "source": [
    "# Importing the dataset\n",
    "df = pd.read_csv('telco_churn.csv')\n",
    "df.head()\n",
    "df.dtypes\n",
    "\n",
    "\n",
    "#this you can cancel\n",
    "df.drop(df[df['TotalCharges'] == \" \"].index, inplace=True)\n",
    "#since it's a numerical feature, we need to convert it to a float dtype\n",
    "df['TotalCharges'] = df['TotalCharges'].astype(float)\n",
    "#we also want to drop the customerID column, which we won't need for our analysis\n",
    "df.drop(['customerID'], axis=1, inplace=True)\n",
    "df['OnlineServices'] = df['OnlineSecurity'] +  df['OnlineBackup']\n",
    "df['OnlineServices'] = df['OnlineServices'].replace({'NoNo': 'No Online Service',\n",
    "                                                       'YesNo': 'Only Security',\n",
    "                                                       'NoYes': 'Only Backup',\n",
    "                                                       'YesYes': 'Both Services',\n",
    "                                                       'No internet serviceNo internet service':'No internet service'})\n",
    "df.drop(['OnlineSecurity', 'OnlineBackup'], axis=1, inplace=True)\n",
    "df['StreamingServices'] = df['StreamingTV'] +  df['StreamingMovies']\n",
    "df['StreamingServices'] = df['StreamingServices'].replace({'NoNo': 'No Streaming Service', \n",
    "                                                         'YesNo': 'Only TV', \n",
    "                                                         'NoYes': 'Only Movies', \n",
    "                                                         'YesYes': 'Both Services',\n",
    "                                                         'No internet serviceNo internet service':'No internet service'})\n",
    "df.drop(['StreamingTV', 'StreamingMovies'], axis=1, inplace=True)"
   ]
  },
  {
   "cell_type": "code",
   "execution_count": null,
   "metadata": {},
   "outputs": [],
   "source": [
    "#gives us us shape, dtypes, and also null values\n",
    "df.info() "
   ]
  },
  {
   "cell_type": "code",
   "execution_count": null,
   "metadata": {},
   "outputs": [],
   "source": [
    "df[df['TotalCharges'] == \" \"]"
   ]
  },
  {
   "cell_type": "code",
   "execution_count": 214,
   "metadata": {},
   "outputs": [],
   "source": [
    "df.drop(df[df['TotalCharges'] == \" \"].index, inplace=True)\n",
    "#since it's a numerical feature, we need to convert it to a float dtype\n",
    "df['TotalCharges'] = df['TotalCharges'].astype(float)"
   ]
  },
  {
   "cell_type": "code",
   "execution_count": 215,
   "metadata": {},
   "outputs": [],
   "source": [
    "#we also want to drop the customerID column, which we won't need for our analysis\n",
    "df.drop(['customerID'], axis=1, inplace=True)\n"
   ]
  },
  {
   "cell_type": "code",
   "execution_count": null,
   "metadata": {},
   "outputs": [],
   "source": [
    "#first, we want to look at numerical features\n",
    "num_feat = ['tenure', 'MonthlyCharges', 'TotalCharges']\n",
    "df[num_feat].describe()"
   ]
  },
  {
   "cell_type": "code",
   "execution_count": null,
   "metadata": {},
   "outputs": [],
   "source": [
    "#plotting distributions of numerical variables divided by churn \n",
    "fig, ax  = plt.subplots(1, 3, figsize=(18, 6))\n",
    "\n",
    "ax0 = sns.kdeplot(x = df['MonthlyCharges'],  hue= df['Churn'], ax= ax[0],  fill=True)\n",
    "ax0.set(xlabel= 'Monthly Charges', ylabel= 'Frequency')\n",
    "\n",
    "ax1 = sns.kdeplot(x = df['TotalCharges'], hue= df['Churn'], ax= ax[1],   fill=True)\n",
    "ax1.set(xlabel= 'Total Charges', ylabel= 'Frequency')\n",
    "\n",
    "ax2 = sns.kdeplot(x = df['tenure'], hue= df['Churn'], ax= ax[2],  fill=True)\n",
    "ax2.set(xlabel= 'Tenure', ylabel= 'Frequency')\n",
    "\n",
    "plt.tight_layout()\n",
    "plt.show()"
   ]
  },
  {
   "cell_type": "code",
   "execution_count": null,
   "metadata": {},
   "outputs": [],
   "source": [
    "#it'd be interesting to see how monthly charges compare to total charges\n",
    "plt.figure(figsize=(20,9))\n",
    "plt.scatter(x = df['MonthlyCharges'],y=df['TotalCharges'],s=10)\n",
    "plt.xlabel('MonthlyCharges')\n",
    "plt.ylabel('TotalCharges')\n",
    "plt.title('MonthlyCharges vs TotalCharges Scatter Plot')\n",
    "plt.show()"
   ]
  },
  {
   "cell_type": "code",
   "execution_count": null,
   "metadata": {},
   "outputs": [],
   "source": [
    "#we can visually see there is a high correlation. let's see it quantitatively between all variables\n",
    "plt.figure(figsize=(8, 8))\n",
    "sns.heatmap(df[num_feat].corr(), annot = True, square=True)\n",
    "plt.show()"
   ]
  },
  {
   "cell_type": "code",
   "execution_count": null,
   "metadata": {},
   "outputs": [],
   "source": [
    "services = ['PhoneService','MultipleLines','InternetService','OnlineSecurity',\n",
    "           'OnlineBackup','DeviceProtection','TechSupport','StreamingTV','StreamingMovies']"
   ]
  },
  {
   "cell_type": "code",
   "execution_count": 147,
   "metadata": {},
   "outputs": [
    {
     "data": {
      "image/png": "[encoded data removed]",
      "text/plain": [
       "<Figure size 1080x864 with 9 Axes>"
      ]
     },
     "metadata": {
      "needs_background": "light"
     },
     "output_type": "display_data"
    }
   ],
   "source": [
    "fig, axes = plt.subplots(nrows = 3,ncols = 3,figsize = (15,12))\n",
    "for i, item in enumerate(services[:3]):\n",
    "    contract_churn_percent = df.groupby([item, 'Churn']).size() / df.groupby(item).size() * 100\n",
    "    pivot_df = contract_churn_percent.unstack()\n",
    "    ax = pivot_df.plot(kind='bar', stacked=True, color=['yellow', 'cyan'], edgecolor='black', ax=axes[0,i], rot=0)\n",
    "    for p in ax.patches:\n",
    "        width, height = p.get_width(), p.get_height()\n",
    "        x, y = p.get_xy()\n",
    "        ax.annotate(f'{height:.1f}%', (x + width / 2, y + height / 2), ha='center', va='center', fontsize=8)\n",
    "        ax.set_title(item)\n",
    "        ax.set_xlabel('')\n",
    "        ax.legend(title='Churn',loc='lower right')\n",
    "for i, item in enumerate(services[3:6]):\n",
    "    contract_churn_percent = df.groupby([item, 'Churn']).size() / df.groupby(item).size() * 100\n",
    "    pivot_df = contract_churn_percent.unstack()\n",
    "    ax = pivot_df.plot(kind='bar', stacked=True, color=['yellow', 'cyan'], edgecolor='black', ax=axes[1,i], rot=0)\n",
    "    for p in ax.patches:\n",
    "        width, height = p.get_width(), p.get_height()\n",
    "        x, y = p.get_xy()\n",
    "        ax.annotate(f'{height:.1f}%', (x + width / 2, y + height / 2), ha='center', va='center', fontsize=8)\n",
    "        ax.set_title(item)\n",
    "        ax.set_xlabel('')\n",
    "        ax.legend(title='Churn',loc='lower right')\n",
    "for i, item in enumerate(services[6:9]):\n",
    "    contract_churn_percent = df.groupby([item, 'Churn']).size() / df.groupby(item).size() * 100\n",
    "    pivot_df = contract_churn_percent.unstack()\n",
    "    ax = pivot_df.plot(kind='bar', stacked=True, color=['yellow', 'cyan'], edgecolor='black', ax=axes[2,i], rot=0)\n",
    "    for p in ax.patches:\n",
    "        width, height = p.get_width(), p.get_height()\n",
    "        x, y = p.get_xy()\n",
    "        ax.annotate(f'{height:.1f}%', (x + width / 2, y + height / 2), ha='center', va='center', fontsize=8)\n",
    "        ax.set_title(item)\n",
    "        ax.set_xlabel('')\n",
    "        ax.legend(title='Churn',loc='lower right')\n",
    "\n",
    "plt.tight_layout()\n",
    "plt.show()"
   ]
  },
  {
   "cell_type": "code",
   "execution_count": 216,
   "metadata": {},
   "outputs": [],
   "source": [
    "#from the barplots we can see that online sec and online back have very similar percentages,\n",
    "#and since they relate to services that would usually be bought together it makes sense to \n",
    "#merge them into one variable\n",
    "df['OnlineServices'] = df['OnlineSecurity'] +  df['OnlineBackup']\n",
    "df['OnlineServices'] = df['OnlineServices'].replace({'NoNo': 'No Online Service',\n",
    "                                                       'YesNo': 'Only Security',\n",
    "                                                       'NoYes': 'Only Backup',\n",
    "                                                       'YesYes': 'Both Services',\n",
    "                                                       'No internet serviceNo internet service':'No internet service'})\n",
    "df.drop(['OnlineSecurity', 'OnlineBackup'], axis=1, inplace=True)"
   ]
  },
  {
   "cell_type": "code",
   "execution_count": 217,
   "metadata": {},
   "outputs": [],
   "source": [
    "#same thing we can do with StreamingTV and StreamingMovies\n",
    "df['StreamingServices'] = df['StreamingTV'] +  df['StreamingMovies']\n",
    "df['StreamingServices'] = df['StreamingServices'].replace({'NoNo': 'No Streaming Service', \n",
    "                                                         'YesNo': 'Only TV', \n",
    "                                                         'NoYes': 'Only Movies', \n",
    "                                                         'YesYes': 'Both Services',\n",
    "                                                         'No internet serviceNo internet service':'No internet service'})\n",
    "df.drop(['StreamingTV', 'StreamingMovies'], axis=1, inplace=True)"
   ]
  },
  {
   "cell_type": "code",
   "execution_count": 134,
   "metadata": {},
   "outputs": [],
   "source": [
    "# now let's look at demographic categorical variables\n",
    "demographic = ['gender', 'SeniorCitizen', 'Partner', 'Dependents']"
   ]
  },
  {
   "cell_type": "code",
   "execution_count": null,
   "metadata": {},
   "outputs": [],
   "source": [
    "fig, axes = plt.subplots(nrows = 2,ncols = 2,figsize = (8,8))\n",
    "for i, item in enumerate(demographic[:2]):\n",
    "    contract_churn_percent = df.groupby([item, 'Churn']).size() / df.groupby(item).size() * 100\n",
    "    pivot_df = contract_churn_percent.unstack()\n",
    "    ax = pivot_df.plot(kind='bar', stacked=True, color=['yellow', 'cyan'], edgecolor='black', ax=axes[0,i], rot=0)\n",
    "    for p in ax.patches:\n",
    "        width, height = p.get_width(), p.get_height()\n",
    "        x, y = p.get_xy()\n",
    "        ax.annotate(f'{height:.1f}%', (x + width / 2, y + height / 2), ha='center', va='center', fontsize=8)\n",
    "        ax.set_title(item)\n",
    "        ax.set_xlabel('')\n",
    "        ax.legend(title='Churn',loc='lower right')\n",
    "for i, item in enumerate(demographic[2:4]):\n",
    "    contract_churn_percent = df.groupby([item, 'Churn']).size() / df.groupby(item).size() * 100\n",
    "    pivot_df = contract_churn_percent.unstack()\n",
    "    ax = pivot_df.plot(kind='bar', stacked=True, color=['yellow', 'cyan'], edgecolor='black', ax=axes[1,i], rot=0)\n",
    "    for p in ax.patches:\n",
    "        width, height = p.get_width(), p.get_height()\n",
    "        x, y = p.get_xy()\n",
    "        ax.annotate(f'{height:.1f}%', (x + width / 2, y + height / 2), ha='center', va='center', fontsize=8)\n",
    "        ax.set_title(item)\n",
    "        ax.set_xlabel('')\n",
    "        ax.legend(title='Churn',loc='lower right')\n",
    "plt.tight_layout()\n",
    "plt.show()"
   ]
  },
  {
   "cell_type": "code",
   "execution_count": 138,
   "metadata": {},
   "outputs": [],
   "source": [
    "# now let's look at demographic categorical variables\n",
    "payment = ['Contract', 'PaperlessBilling', 'PaymentMethod']"
   ]
  },
  {
   "cell_type": "code",
   "execution_count": null,
   "metadata": {},
   "outputs": [],
   "source": [
    "fig, axes = plt.subplots(nrows = 1,ncols = 3,figsize = (15,5))\n",
    "for i, item in enumerate(payment):\n",
    "    contract_churn_percent = df.groupby([item, 'Churn']).size() / df.groupby(item).size() * 100\n",
    "    pivot_df = contract_churn_percent.unstack()\n",
    "    ax = pivot_df.plot(kind='bar', stacked=True, color=['yellow', 'cyan'], edgecolor='black', ax=axes[i], rot=0)\n",
    "    for p in ax.patches:\n",
    "        width, height = p.get_width(), p.get_height()\n",
    "        x, y = p.get_xy()\n",
    "        ax.annotate(f'{height:.1f}%', (x + width / 2, y + height / 2), ha='center', va='center', fontsize=8)\n",
    "        ax.set_title(item)\n",
    "        ax.set_xlabel('')\n",
    "        ax.legend(title='Churn',loc='lower right')\n",
    "\n",
    "plt.tight_layout()\n",
    "plt.show()"
   ]
  },
  {
   "cell_type": "code",
   "execution_count": 207,
   "metadata": {},
   "outputs": [
    {
     "name": "stdout",
     "output_type": "stream",
     "text": [
      "gender : ['Female', 'Male']\n",
      "Partner : ['Yes', 'No']\n",
      "Dependents : ['No', 'Yes']\n",
      "PhoneService : ['No', 'Yes']\n",
      "MultipleLines : ['No phone service', 'No', 'Yes']\n",
      "InternetService : ['DSL', 'Fiber optic', 'No']\n",
      "DeviceProtection : ['No', 'Yes', 'No internet service']\n",
      "TechSupport : ['No', 'Yes', 'No internet service']\n",
      "Contract : ['Month-to-month', 'One year', 'Two year']\n",
      "PaperlessBilling : ['Yes', 'No']\n",
      "PaymentMethod : ['Electronic check', 'Mailed check', 'Bank transfer (automatic)', 'Credit card (automatic)']\n",
      "Churn : ['No', 'Yes']\n",
      "OnlineServices : ['Only Backup', 'Only Security', 'Both Services', 'No Service', 'No internet service']\n",
      "StreamingServices : ['No Service', 'Both Services', 'Only TV', 'No internet service', 'Only Movies']\n"
     ]
    }
   ],
   "source": [
    "unique_values = {column: list(df[column].unique()) for column in df.select_dtypes(object).columns}\n",
    "for key, value in unique_values.items():\n",
    "    print(f'{key} : {value}')"
   ]
  },
  {
   "cell_type": "code",
   "execution_count": 222,
   "metadata": {},
   "outputs": [],
   "source": [
    "# we use binary encoding where there are 2 categories, otherwise one hot encoding. you can add ordinal encoding if you want to get fancy\n",
    "le = LabelEncoder()\n",
    "for col in df.select_dtypes(object).columns:\n",
    "    if df[col].nunique() == 2:\n",
    "        df[col] = le.fit_transform(df[col])\n",
    "    else:\n",
    "        dummies = pd.get_dummies(df[col], drop_first= True)\n",
    "        df = pd.concat([df, dummies], axis=1)\n",
    "        df.drop(col,axis =1 , inplace= True)\n",
    "    "
   ]
  },
  {
   "cell_type": "code",
   "execution_count": 226,
   "metadata": {},
   "outputs": [],
   "source": [
    "X = df.drop('Churn', axis= 1)\n",
    "y = df['Churn']"
   ]
  },
  {
   "cell_type": "code",
   "execution_count": 228,
   "metadata": {},
   "outputs": [],
   "source": [
    "sc = StandardScaler()\n",
    "X = sc.fit_transform(X)"
   ]
  },
  {
   "cell_type": "code",
   "execution_count": 229,
   "metadata": {},
   "outputs": [],
   "source": [
    "#test size and random state to be investigated\n",
    "X_train, X_test, y_train, y_test = train_test_split(X, y, test_size= 0.2, stratify= y, random_state= 42) "
   ]
  },
  {
   "cell_type": "code",
   "execution_count": 230,
   "metadata": {},
   "outputs": [
    {
     "name": "stdout",
     "output_type": "stream",
     "text": [
      "0    4130\n",
      "1    1495\n",
      "Name: Churn, dtype: int64\n",
      "0    1033\n",
      "1     374\n",
      "Name: Churn, dtype: int64\n"
     ]
    }
   ],
   "source": [
    "print(y_train.value_counts())\n",
    "print(y_test.value_counts())"
   ]
  },
  {
   "cell_type": "code",
   "execution_count": 231,
   "metadata": {},
   "outputs": [
    {
     "name": "stdout",
     "output_type": "stream",
     "text": [
      "KNN accuracy: 0.7569296375266524\n"
     ]
    }
   ],
   "source": [
    "knn_model = KNeighborsClassifier(n_neighbors = 11) \n",
    "knn_model.fit(X_train,y_train)\n",
    "predicted_y = knn_model.predict(X_test)\n",
    "accuracy_knn = knn_model.score(X_test,y_test)\n",
    "print(\"KNN accuracy:\",accuracy_knn)"
   ]
  },
  {
   "cell_type": "code",
   "execution_count": 233,
   "metadata": {},
   "outputs": [
    {
     "name": "stdout",
     "output_type": "stream",
     "text": [
      "              precision    recall  f1-score   support\n",
      "\n",
      "           0       0.84      0.83      0.83      1033\n",
      "           1       0.54      0.55      0.55       374\n",
      "\n",
      "    accuracy                           0.76      1407\n",
      "   macro avg       0.69      0.69      0.69      1407\n",
      "weighted avg       0.76      0.76      0.76      1407\n",
      "\n"
     ]
    }
   ],
   "source": [
    "print(classification_report(y_test, predicted_y))"
   ]
  },
  {
   "cell_type": "code",
   "execution_count": 237,
   "metadata": {},
   "outputs": [
    {
     "name": "stdout",
     "output_type": "stream",
     "text": [
      "SVM accuracy is : 0.7903340440653873\n",
      "              precision    recall  f1-score   support\n",
      "\n",
      "           0       0.83      0.90      0.86      1033\n",
      "           1       0.63      0.50      0.56       374\n",
      "\n",
      "    accuracy                           0.79      1407\n",
      "   macro avg       0.73      0.70      0.71      1407\n",
      "weighted avg       0.78      0.79      0.78      1407\n",
      "\n"
     ]
    }
   ],
   "source": [
    "svc_model = SVC(random_state = 1)\n",
    "svc_model.fit(X_train,y_train)\n",
    "predict_y = svc_model.predict(X_test)\n",
    "accuracy_svc = svc_model.score(X_test,y_test)\n",
    "print(\"SVM accuracy is :\",accuracy_svc)\n",
    "print(classification_report(y_test, predict_y))"
   ]
  },
  {
   "cell_type": "code",
   "execution_count": null,
   "metadata": {},
   "outputs": [],
   "source": [
    "model_rf = RandomForestClassifier(n_estimators=500 , oob_score = True, n_jobs = -1,\n",
    "                                  random_state =50, max_features = \"auto\",\n",
    "                                  max_leaf_nodes = 30)\n",
    "model_rf.fit(X_train, y_train)\n",
    "\n",
    "# Make predictions\n",
    "prediction_test = model_rf.predict(X_test)\n",
    "print (accuracy_score(y_test, prediction_test))"
   ]
  },
  {
   "cell_type": "code",
   "execution_count": null,
   "metadata": {},
   "outputs": [],
   "source": [
    "print(classification_report(y_test, prediction_test))"
   ]
  },
  {
   "cell_type": "code",
   "execution_count": 242,
   "metadata": {},
   "outputs": [
    {
     "data": {
      "image/png": "[encoded data removed]",
      "text/plain": [
       "<Figure size 288x216 with 2 Axes>"
      ]
     },
     "metadata": {
      "needs_background": "light"
     },
     "output_type": "display_data"
    }
   ],
   "source": [
    "plt.figure(figsize=(4,3))\n",
    "sns.heatmap(confusion_matrix(y_test, prediction_test),\n",
    "                annot=True,fmt = \"d\",linecolor=\"k\",linewidths=3)\n",
    "    \n",
    "plt.title(\" RANDOM FOREST CONFUSION MATRIX\",fontsize=14)\n",
    "plt.show()"
   ]
  },
  {
   "cell_type": "code",
   "execution_count": 244,
   "metadata": {},
   "outputs": [
    {
     "name": "stdout",
     "output_type": "stream",
     "text": [
      "logistic regression trained\n",
      "gradient boosing trained\n",
      "naive bayes trained\n",
      "random forest trained\n",
      "----------------\n",
      "logistic regression : 0.8474747078309726\n",
      "----------------\n",
      "gradient boosing : 0.8478174091024023\n",
      "----------------\n",
      "naive bayes : 0.8183538511590754\n",
      "----------------\n",
      "random forest : 0.8277090764357343\n"
     ]
    }
   ],
   "source": [
    "models = {\n",
    "    'logistic regression' : LogisticRegression(),\n",
    "    'gradient boosing' : GradientBoostingClassifier(),\n",
    "    'naive bayes' : GaussianNB(),\n",
    "    'random forest' : RandomForestClassifier()\n",
    "}\n",
    "for name, model in models.items():\n",
    "    model.fit(X_train, y_train)\n",
    "    print(f'{name} trained')\n",
    "results = {}\n",
    "\n",
    "kf = KFold(n_splits= 10)\n",
    "\n",
    "for name, model in models.items():\n",
    "    result = cross_val_score(model, X_train, y_train, scoring= 'roc_auc', cv= kf)\n",
    "    results[name] = result\n",
    "for name, result in results.items():\n",
    "    print(\"----------------\")\n",
    "    print(f'{name} : {np.mean(result)}')"
   ]
  },
  {
   "cell_type": "code",
   "execution_count": 246,
   "metadata": {},
   "outputs": [
    {
     "name": "stdout",
     "output_type": "stream",
     "text": [
      "logistic regression trained\n",
      "gradient boosing trained\n",
      "naive bayes trained\n",
      "random forest trained\n",
      "----------------\n",
      "logistic regression : 0.8468879102545351\n",
      "----------------\n",
      "gradient boosing : 0.8482480621414759\n",
      "----------------\n",
      "naive bayes : 0.817905466088153\n",
      "----------------\n",
      "random forest : 0.825259014901604\n"
     ]
    }
   ],
   "source": [
    "models = {\n",
    "    'logistic regression' : LogisticRegression(),\n",
    "    'gradient boosing' : GradientBoostingClassifier(),\n",
    "    'naive bayes' : GaussianNB(),\n",
    "    'random forest' : RandomForestClassifier()\n",
    "}\n",
    "for name, model in models.items():\n",
    "    model.fit(X_train, y_train)\n",
    "    print(f'{name} trained')\n",
    "results = {}\n",
    "\n",
    "kf = StratifiedKFold(n_splits= 10)\n",
    "\n",
    "for name, model in models.items():\n",
    "    result = cross_val_score(model, X_train, y_train, scoring= 'roc_auc', cv= kf)\n",
    "    results[name] = result\n",
    "for name, result in results.items():\n",
    "    print(\"----------------\")\n",
    "    print(f'{name} : {np.mean(result)}')"
   ]
  },
  {
   "cell_type": "code",
   "execution_count": 254,
   "metadata": {},
   "outputs": [
    {
     "name": "stdout",
     "output_type": "stream",
     "text": [
      "{'C': 1}\n",
      "0.8024888888888888\n"
     ]
    }
   ],
   "source": [
    "    # tol = trial.suggest_loguniform('tol', 1e-7, 0.1)\n",
    "    # C = trial.suggest_float('C', 0, 0.1)\n",
    "    # max_iter = trial.suggest_int('max_iter', 50, 600)\n",
    "    # penalty = trial.suggest_categorical('penalty', ['l1', 'l2'])\n",
    "\n",
    "parameters = {'C':[1, 10]}\n",
    "lr = LogisticRegression()\n",
    "clf = GridSearchCV(lr, parameters, scoring='accuracy', cv=5)\n",
    "clf = clf.fit(X_train, y_train)\n",
    "print(clf.best_params_)\n",
    "print(clf.best_score_)"
   ]
  }
 ],
 "metadata": {
  "kernelspec": {
   "display_name": "Python 3",
   "language": "python",
   "name": "python3"
  },
  "language_info": {
   "codemirror_mode": {
    "name": "ipython",
    "version": 3
   },
   "file_extension": ".py",
   "mimetype": "text/x-python",
   "name": "python",
   "nbconvert_exporter": "python",
   "pygments_lexer": "ipython3",
   "version": "3.10.4"
  },
  "orig_nbformat": 4
 },
 "nbformat": 4,
 "nbformat_minor": 2
}
